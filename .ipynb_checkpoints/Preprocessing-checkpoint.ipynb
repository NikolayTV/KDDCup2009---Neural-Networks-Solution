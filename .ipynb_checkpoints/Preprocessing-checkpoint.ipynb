{
 "cells": [
  {
   "cell_type": "code",
   "execution_count": 299,
   "metadata": {},
   "outputs": [],
   "source": [
    "import numpy as np\n",
    "import pandas as pd\n",
    "from sklearn import preprocessing\n",
    "import matplotlib.pyplot as plt\n",
    "from scipy import stats\n",
    "import scipy \n",
    "\n",
    "%matplotlib inline  \n",
    "\n",
    "#Reading data\n",
    "objs = dict(zip(['Var{}'.format(i) for i in range(191, 231)], ['object' for i in range(191, 231)]))\n",
    "df = pd.read_csv('data/orange_small_train.data', sep='\\t', dtype=objs)\n",
    "# categData = df.iloc[:, 190:230]\n",
    "# numData = df.iloc[:, 0:190]\n",
    "\n",
    "Y_churn = np.loadtxt('data/orange_small_train_churn.labels')\n",
    "Y_appet = np.loadtxt('data/orange_small_train_appetency.labels')\n",
    "Y_upsell = np.loadtxt('data/orange_small_train_upselling.labels')"
   ]
  },
  {
   "cell_type": "code",
   "execution_count": 300,
   "metadata": {},
   "outputs": [
    {
     "name": "stdout",
     "output_type": "stream",
     "text": [
      "(50000, 230)\n"
     ]
    },
    {
     "data": {
      "image/png": "[encoded data removed]",
      "text/plain": [
       "<matplotlib.figure.Figure at 0x7fadabfa6f60>"
      ]
     },
     "metadata": {},
     "output_type": "display_data"
    }
   ],
   "source": [
    "# missing values\n",
    "df.isna().sum().hist();\n",
    "print(df.shape)"
   ]
  },
  {
   "cell_type": "code",
   "execution_count": 301,
   "metadata": {},
   "outputs": [
    {
     "data": {
      "text/plain": [
       "(50000, 67)"
      ]
     },
     "execution_count": 301,
     "metadata": {},
     "output_type": "execute_result"
    }
   ],
   "source": [
    "#delete columns with missing values above 30%\n",
    "treshold = 0.3\n",
    "valid_columns = dict(df.isna().sum() < treshold * df.shape[0]) \n",
    "df = df[list([i for i in valid_columns if valid_columns[i] == True])] \n",
    "df.shape"
   ]
  },
  {
   "cell_type": "code",
   "execution_count": 302,
   "metadata": {},
   "outputs": [
    {
     "name": "stderr",
     "output_type": "stream",
     "text": [
      "/opt/rh/rh-python35/root/usr/lib64/python3.5/site-packages/pandas/core/generic.py:4355: SettingWithCopyWarning: \n",
      "A value is trying to be set on a copy of a slice from a DataFrame\n",
      "\n",
      "See the caveats in the documentation: http://pandas.pydata.org/pandas-docs/stable/indexing.html#indexing-view-versus-copy\n",
      "  self._update_inplace(new_data)\n",
      "/opt/rh/rh-python35/root/usr/lib64/python3.5/site-packages/pandas/core/frame.py:3035: SettingWithCopyWarning: \n",
      "A value is trying to be set on a copy of a slice from a DataFrame\n",
      "\n",
      "See the caveats in the documentation: http://pandas.pydata.org/pandas-docs/stable/indexing.html#indexing-view-versus-copy\n",
      "  downcast=downcast, **kwargs)\n"
     ]
    }
   ],
   "source": [
    "numData = df[[i for i in list(df.columns) if i not in objs]]\n",
    "catData = df[[i for i in list(df.columns) if i in objs]]\n",
    "\n",
    "numData.shape, catData.shape\n",
    "\n",
    "#change NaN`s by mean of the column in numerical\n",
    "numData.fillna(numData.mean(), inplace=True)\n",
    "\n",
    "#add label 'missing' in place of NaN`s in categorical \n",
    "catData.fillna('missing', inplace=True)\n"
   ]
  },
  {
   "cell_type": "code",
   "execution_count": 303,
   "metadata": {
    "scrolled": true
   },
   "outputs": [
    {
     "data": {
      "image/png": "[encoded data removed]",
      "text/plain": [
       "<matplotlib.figure.Figure at 0x7fadabaad320>"
      ]
     },
     "metadata": {},
     "output_type": "display_data"
    },
    {
     "data": {
      "text/plain": [
       "(50000, 19)"
      ]
     },
     "execution_count": 303,
     "metadata": {},
     "output_type": "execute_result"
    }
   ],
   "source": [
    "catCount = []\n",
    "columsToExclude = {}\n",
    "for col in catData.columns:\n",
    "    catCount.append(catData[col].unique().size)\n",
    "    if catData[col].unique().size > 100:\n",
    "        columsToExclude[col] = False\n",
    "        \n",
    "plt.title('Number of categories in columns')\n",
    "plt.xticks(range(len(catCount)))\n",
    "plt.bar(range(len(catCount)), catCount)\n",
    "plt.show()\n",
    "\n",
    "# exclude columns with over 100 cat`s\n",
    "catData = catData[list([i for i in catData.columns if i not in columsToExclude])]\n",
    "catData.shape"
   ]
  },
  {
   "cell_type": "code",
   "execution_count": 304,
   "metadata": {},
   "outputs": [
    {
     "data": {
      "text/plain": [
       "((40895, 39), (40895, 19), (40895,), (40895,), (40895,))"
      ]
     },
     "execution_count": 304,
     "metadata": {},
     "output_type": "execute_result"
    }
   ],
   "source": [
    "z = np.abs(stats.zscore(numData))\n",
    "stdThresh = 3.5\n",
    "numData = numData[(z < stdThresh).all(axis=1)]\n",
    "catData = catData[(z < stdThresh).all(axis=1)]\n",
    "Y_churn = Y_churn[(z < stdThresh).all(axis=1)]\n",
    "Y_appet = Y_appet[(z < stdThresh).all(axis=1)]\n",
    "Y_upsell = Y_upsell[(z < stdThresh).all(axis=1)]\n",
    "\n",
    "numData.shape, catData.shape, Y_churn.shape, Y_appet.shape, Y_upsell.shape"
   ]
  },
  {
   "cell_type": "code",
   "execution_count": 305,
   "metadata": {},
   "outputs": [
    {
     "data": {
      "text/plain": [
       "<40895x446 sparse matrix of type '<class 'numpy.float64'>'\n",
       "\twith 1921335 stored elements in COOrdinate format>"
      ]
     },
     "execution_count": 305,
     "metadata": {},
     "output_type": "execute_result"
    }
   ],
   "source": [
    "#OHE cat columns\n",
    "enc = preprocessing.LabelEncoder()\n",
    "ohe = preprocessing.OneHotEncoder()\n",
    "for i in catData.columns:\n",
    "    catData[i] = enc.fit_transform(catData[i])\n",
    "\n",
    "catData_sparse = ohe.fit_transform(catData)\n",
    "\n",
    "#stack numeric and cat columns\n",
    "numData = preprocessing.minmax_scale(numData)\n",
    "numData_sparse = pd.DataFrame(numData).to_sparse()\n",
    "X = scipy.sparse.hstack(blocks = [numData_sparse, catData_sparse])\n",
    "\n",
    "X"
   ]
  },
  {
   "cell_type": "code",
   "execution_count": 324,
   "metadata": {},
   "outputs": [],
   "source": [
    "pickle.dump(X, open( \"data_prepared/X.pkl\", \"wb\" ))\n",
    "pickle.dump(Y_churn, open( \"data_prepared/Y_churn.pkl\", \"wb\" ))\n",
    "pickle.dump(Y_appet, open( \"data_prepared/Y_appet.pkl\", \"wb\" ))\n",
    "pickle.dump(Y_upsell, open( \"data_prepared/Y_upsell.pkl\", \"wb\" ))"
   ]
  },
  {
   "cell_type": "markdown",
   "metadata": {},
   "source": [
    "## Model Selection"
   ]
  },
  {
   "cell_type": "code",
   "execution_count": 319,
   "metadata": {},
   "outputs": [],
   "source": [
    "from sklearn import metrics\n",
    "from sklearn.model_selection import StratifiedShuffleSplit\n",
    "from sklearn.ensemble import RandomForestClassifier"
   ]
  },
  {
   "cell_type": "code",
   "execution_count": null,
   "metadata": {},
   "outputs": [],
   "source": []
  }
 ],
 "metadata": {
  "kernelspec": {
   "display_name": "Python 3.5",
   "language": "python",
   "name": "python35"
  },
  "language_info": {
   "codemirror_mode": {
    "name": "ipython",
    "version": 3
   },
   "file_extension": ".py",
   "mimetype": "text/x-python",
   "name": "python",
   "nbconvert_exporter": "python",
   "pygments_lexer": "ipython3",
   "version": "3.5.1"
  }
 },
 "nbformat": 4,
 "nbformat_minor": 2
}
